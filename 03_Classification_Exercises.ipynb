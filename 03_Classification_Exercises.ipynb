{
 "cells": [
  {
   "cell_type": "code",
   "execution_count": 1,
   "metadata": {},
   "outputs": [],
   "source": [
    "import numpy as np\n",
    "import pandas as pd\n",
    "np.random.seed(42)"
   ]
  },
  {
   "cell_type": "code",
   "execution_count": 2,
   "metadata": {},
   "outputs": [
    {
     "data": {
      "text/plain": [
       "dict_keys(['data', 'target', 'frame', 'categories', 'feature_names', 'target_names', 'DESCR', 'details', 'url'])"
      ]
     },
     "execution_count": 2,
     "metadata": {},
     "output_type": "execute_result"
    }
   ],
   "source": [
    "from sklearn.datasets import fetch_openml\n",
    "mnist = fetch_openml('mnist_784', version=1, as_frame=False)\n",
    "mnist.keys()"
   ]
  },
  {
   "cell_type": "code",
   "execution_count": 3,
   "metadata": {},
   "outputs": [],
   "source": [
    "X, y = mnist[\"data\"], mnist[\"target\"]"
   ]
  },
  {
   "cell_type": "code",
   "execution_count": 4,
   "metadata": {},
   "outputs": [],
   "source": [
    "X_train, X_test, y_train, y_test = X[:60000], X[60000:], y[:60000], y[60000:]"
   ]
  },
  {
   "cell_type": "markdown",
   "metadata": {},
   "source": [
    "## 1. An MNIST Classifier With Over 97% Accuracy"
   ]
  },
  {
   "cell_type": "code",
   "execution_count": 5,
   "metadata": {},
   "outputs": [
    {
     "data": {
      "text/plain": [
       "0.9688"
      ]
     },
     "execution_count": 5,
     "metadata": {},
     "output_type": "execute_result"
    }
   ],
   "source": [
    "from sklearn.neighbors import KNeighborsClassifier\n",
    "\n",
    "knn = KNeighborsClassifier()\n",
    "knn.fit(X_train, y_train)\n",
    "y_preds = knn.predict(X_test)\n",
    "# Score\n",
    "knn.score(X_test, y_test)"
   ]
  },
  {
   "cell_type": "code",
   "execution_count": 6,
   "metadata": {},
   "outputs": [],
   "source": [
    "from sklearn.model_selection import GridSearchCV, RandomizedSearchCV\n",
    "\n",
    "params = dict(n_neighbors=[3, 4, 5, 6, 7],\n",
    "              weights=['uniform', 'distance'],\n",
    "              p=[1, 2], leaf_size=list(range(1,50)))\n"
   ]
  },
  {
   "cell_type": "code",
   "execution_count": 7,
   "metadata": {},
   "outputs": [
    {
     "name": "stdout",
     "output_type": "stream",
     "text": [
      "Fitting 5 folds for each of 10 candidates, totalling 50 fits\n",
      "[CV 1/5] END leaf_size=40, n_neighbors=5, p=1, weights=uniform;, score=0.964 total time= 2.5min\n",
      "[CV 2/5] END leaf_size=40, n_neighbors=5, p=1, weights=uniform;, score=0.964 total time= 2.6min\n",
      "[CV 3/5] END leaf_size=40, n_neighbors=5, p=1, weights=uniform;, score=0.961 total time= 2.6min\n",
      "[CV 4/5] END leaf_size=40, n_neighbors=5, p=1, weights=uniform;, score=0.961 total time= 2.6min\n",
      "[CV 5/5] END leaf_size=40, n_neighbors=5, p=1, weights=uniform;, score=0.964 total time= 2.6min\n",
      "[CV 1/5] END leaf_size=23, n_neighbors=3, p=1, weights=uniform;, score=0.965 total time= 2.5min\n",
      "[CV 2/5] END leaf_size=23, n_neighbors=3, p=1, weights=uniform;, score=0.964 total time= 2.5min\n",
      "[CV 3/5] END leaf_size=23, n_neighbors=3, p=1, weights=uniform;, score=0.962 total time= 2.6min\n",
      "[CV 4/5] END leaf_size=23, n_neighbors=3, p=1, weights=uniform;, score=0.962 total time= 2.5min\n",
      "[CV 5/5] END leaf_size=23, n_neighbors=3, p=1, weights=uniform;, score=0.963 total time= 2.5min\n",
      "[CV 1/5] END leaf_size=7, n_neighbors=7, p=2, weights=distance;, score=0.969 total time=  12.0s\n",
      "[CV 2/5] END leaf_size=7, n_neighbors=7, p=2, weights=distance;, score=0.970 total time=  12.7s\n",
      "[CV 3/5] END leaf_size=7, n_neighbors=7, p=2, weights=distance;, score=0.967 total time=  12.5s\n",
      "[CV 4/5] END leaf_size=7, n_neighbors=7, p=2, weights=distance;, score=0.969 total time=  12.2s\n",
      "[CV 5/5] END leaf_size=7, n_neighbors=7, p=2, weights=distance;, score=0.969 total time=  13.1s\n",
      "[CV 1/5] END leaf_size=35, n_neighbors=6, p=2, weights=distance;, score=0.972 total time=  12.3s\n",
      "[CV 2/5] END leaf_size=35, n_neighbors=6, p=2, weights=distance;, score=0.972 total time=  12.0s\n",
      "[CV 3/5] END leaf_size=35, n_neighbors=6, p=2, weights=distance;, score=0.970 total time=  12.0s\n",
      "[CV 4/5] END leaf_size=35, n_neighbors=6, p=2, weights=distance;, score=0.970 total time=  12.3s\n",
      "[CV 5/5] END leaf_size=35, n_neighbors=6, p=2, weights=distance;, score=0.972 total time=  12.8s\n",
      "[CV 1/5] END leaf_size=4, n_neighbors=4, p=2, weights=uniform;, score=0.969 total time=  12.7s\n",
      "[CV 2/5] END leaf_size=4, n_neighbors=4, p=2, weights=uniform;, score=0.968 total time=  12.8s\n",
      "[CV 3/5] END leaf_size=4, n_neighbors=4, p=2, weights=uniform;, score=0.968 total time=  12.7s\n",
      "[CV 4/5] END leaf_size=4, n_neighbors=4, p=2, weights=uniform;, score=0.967 total time=  13.3s\n",
      "[CV 5/5] END leaf_size=4, n_neighbors=4, p=2, weights=uniform;, score=0.970 total time=  13.5s\n",
      "[CV 1/5] END leaf_size=43, n_neighbors=6, p=1, weights=uniform;, score=0.962 total time= 2.6min\n",
      "[CV 2/5] END leaf_size=43, n_neighbors=6, p=1, weights=uniform;, score=0.960 total time= 2.6min\n",
      "[CV 3/5] END leaf_size=43, n_neighbors=6, p=1, weights=uniform;, score=0.961 total time= 2.6min\n",
      "[CV 4/5] END leaf_size=43, n_neighbors=6, p=1, weights=uniform;, score=0.960 total time= 2.6min\n",
      "[CV 5/5] END leaf_size=43, n_neighbors=6, p=1, weights=uniform;, score=0.961 total time= 2.7min\n",
      "[CV 1/5] END leaf_size=21, n_neighbors=4, p=1, weights=distance;, score=0.967 total time= 2.7min\n",
      "[CV 2/5] END leaf_size=21, n_neighbors=4, p=1, weights=distance;, score=0.967 total time= 3.2min\n",
      "[CV 3/5] END leaf_size=21, n_neighbors=4, p=1, weights=distance;, score=0.964 total time= 3.1min\n",
      "[CV 4/5] END leaf_size=21, n_neighbors=4, p=1, weights=distance;, score=0.964 total time= 3.2min\n",
      "[CV 5/5] END leaf_size=21, n_neighbors=4, p=1, weights=distance;, score=0.966 total time= 2.9min\n",
      "[CV 1/5] END leaf_size=37, n_neighbors=7, p=1, weights=uniform;, score=0.963 total time= 2.6min\n",
      "[CV 2/5] END leaf_size=37, n_neighbors=7, p=1, weights=uniform;, score=0.962 total time= 2.6min\n",
      "[CV 3/5] END leaf_size=37, n_neighbors=7, p=1, weights=uniform;, score=0.960 total time= 2.6min\n",
      "[CV 4/5] END leaf_size=37, n_neighbors=7, p=1, weights=uniform;, score=0.960 total time= 2.5min\n",
      "[CV 5/5] END leaf_size=37, n_neighbors=7, p=1, weights=uniform;, score=0.961 total time= 2.6min\n",
      "[CV 1/5] END leaf_size=23, n_neighbors=7, p=1, weights=distance;, score=0.963 total time= 2.5min\n",
      "[CV 2/5] END leaf_size=23, n_neighbors=7, p=1, weights=distance;, score=0.964 total time= 2.6min\n",
      "[CV 3/5] END leaf_size=23, n_neighbors=7, p=1, weights=distance;, score=0.961 total time= 2.6min\n",
      "[CV 4/5] END leaf_size=23, n_neighbors=7, p=1, weights=distance;, score=0.962 total time= 2.5min\n",
      "[CV 5/5] END leaf_size=23, n_neighbors=7, p=1, weights=distance;, score=0.963 total time= 2.6min\n",
      "[CV 1/5] END leaf_size=16, n_neighbors=4, p=2, weights=distance;, score=0.973 total time=  12.6s\n",
      "[CV 2/5] END leaf_size=16, n_neighbors=4, p=2, weights=distance;, score=0.972 total time=  12.4s\n",
      "[CV 3/5] END leaf_size=16, n_neighbors=4, p=2, weights=distance;, score=0.970 total time=  12.6s\n",
      "[CV 4/5] END leaf_size=16, n_neighbors=4, p=2, weights=distance;, score=0.971 total time=  12.3s\n",
      "[CV 5/5] END leaf_size=16, n_neighbors=4, p=2, weights=distance;, score=0.972 total time=  13.2s\n",
      "Randomized Search Best Params: {'weights': 'distance', 'p': 2, 'n_neighbors': 4, 'leaf_size': 16}\n",
      "Randmoized Search Best Score: 0.9716166666666666\n"
     ]
    }
   ],
   "source": [
    "knn_random = KNeighborsClassifier()\n",
    "\n",
    "random_ = RandomizedSearchCV(knn_random, params, cv=5, verbose=3)\n",
    "\n",
    "random_search = random_.fit(X_train, y_train)\n",
    "print(f\"Randomized Search Best Params: {random_search.best_params_}\")\n",
    "print(f\"Randmoized Search Best Score: {random_search.best_score_}\")"
   ]
  },
  {
   "cell_type": "code",
   "execution_count": 11,
   "metadata": {},
   "outputs": [
    {
     "name": "stdout",
     "output_type": "stream",
     "text": [
      "Randomized Search Best Params: {'weights': 'distance', 'p': 2, 'n_neighbors': 4, 'leaf_size': 16}\n",
      "Randmoized Search Best Score: 0.9716166666666666\n"
     ]
    }
   ],
   "source": [
    "print(f\"Randomized Search Best Params: {random_search.best_params_}\")\n",
    "print(f\"Randmoized Search Best Score: {random_search.best_score_}\")"
   ]
  },
  {
   "cell_type": "code",
   "execution_count": 8,
   "metadata": {},
   "outputs": [],
   "source": [
    "# knn_grid = KNeighborsClassifier()\n",
    "# grid = GridSearchCV(knn_grid, params, cv=5, verbose=3)\n",
    "\n",
    "# grid_search = grid.fit(X_train, y_train)\n",
    "# print(f\"Grid Best Params: {grid_search.best_params_}\")\n",
    "# print(f\"Grid Best Score: {grid_search.best_score_}\")"
   ]
  },
  {
   "cell_type": "code",
   "execution_count": 9,
   "metadata": {},
   "outputs": [
    {
     "data": {
      "text/plain": [
       "0.9714"
      ]
     },
     "execution_count": 9,
     "metadata": {},
     "output_type": "execute_result"
    }
   ],
   "source": [
    "from sklearn.metrics import accuracy_score\n",
    "\n",
    "y_pred = random_search.predict(X_test)\n",
    "accuracy_score(y_test, y_pred)"
   ]
  },
  {
   "cell_type": "code",
   "execution_count": 10,
   "metadata": {},
   "outputs": [],
   "source": [
    "# y_pred_1 = grid_search.predict(X_test)\n",
    "# accuracy_score(y_test, y_pred)"
   ]
  },
  {
   "cell_type": "code",
   "execution_count": null,
   "metadata": {},
   "outputs": [],
   "source": []
  }
 ],
 "metadata": {
  "kernelspec": {
   "display_name": "Python 3.9.13 ('venv': venv)",
   "language": "python",
   "name": "python3"
  },
  "language_info": {
   "codemirror_mode": {
    "name": "ipython",
    "version": 3
   },
   "file_extension": ".py",
   "mimetype": "text/x-python",
   "name": "python",
   "nbconvert_exporter": "python",
   "pygments_lexer": "ipython3",
   "version": "3.9.13"
  },
  "orig_nbformat": 4,
  "vscode": {
   "interpreter": {
    "hash": "939862528dfcbe6b67a6975ad6aacb3efd5a782392f2ee457531fa78da8d258c"
   }
  }
 },
 "nbformat": 4,
 "nbformat_minor": 2
}
